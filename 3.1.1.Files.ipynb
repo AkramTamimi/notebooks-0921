{
 "cells": [
  {
   "cell_type": "markdown",
   "metadata": {
    "toc": true
   },
   "source": [
    "<h1>Table of Contents<span class=\"tocSkip\"></span></h1>\n",
    "<div class=\"toc\"><ul class=\"toc-item\"><li><span><a href=\"#Exceptions\" data-toc-modified-id=\"Exceptions-1\"><span class=\"toc-item-num\">1&nbsp;&nbsp;</span>Exceptions</a></span></li><li><span><a href=\"#Files\" data-toc-modified-id=\"Files-2\"><span class=\"toc-item-num\">2&nbsp;&nbsp;</span>Files</a></span><ul class=\"toc-item\"><li><ul class=\"toc-item\"><li><span><a href=\"#Read()-moves-to-the-end-of-the-file\" data-toc-modified-id=\"Read()-moves-to-the-end-of-the-file-2.0.1\"><span class=\"toc-item-num\">2.0.1&nbsp;&nbsp;</span>Read() moves to the end of the file</a></span></li></ul></li><li><span><a href=\"#readlines()\" data-toc-modified-id=\"readlines()-2.1\"><span class=\"toc-item-num\">2.1&nbsp;&nbsp;</span>readlines()</a></span></li><li><span><a href=\"#Using-for\" data-toc-modified-id=\"Using-for-2.2\"><span class=\"toc-item-num\">2.2&nbsp;&nbsp;</span>Using for</a></span></li><li><span><a href=\"#Using-with\" data-toc-modified-id=\"Using-with-2.3\"><span class=\"toc-item-num\">2.3&nbsp;&nbsp;</span>Using with</a></span></li><li><span><a href=\"#Writing-files\" data-toc-modified-id=\"Writing-files-2.4\"><span class=\"toc-item-num\">2.4&nbsp;&nbsp;</span>Writing files</a></span></li></ul></li><li><span><a href=\"#Using-Pandas\" data-toc-modified-id=\"Using-Pandas-3\"><span class=\"toc-item-num\">3&nbsp;&nbsp;</span>Using Pandas</a></span></li><li><span><a href=\"#Module-os\" data-toc-modified-id=\"Module-os-4\"><span class=\"toc-item-num\">4&nbsp;&nbsp;</span>Module os</a></span></li></ul></div>"
   ]
  },
  {
   "cell_type": "markdown",
   "metadata": {},
   "source": [
    "# Exceptions"
   ]
  },
  {
   "cell_type": "code",
   "execution_count": 2,
   "metadata": {},
   "outputs": [
    {
     "ename": "ZeroDivisionError",
     "evalue": "division by zero",
     "output_type": "error",
     "traceback": [
      "\u001b[0;31m---------------------------------------------------------------------------\u001b[0m",
      "\u001b[0;31mZeroDivisionError\u001b[0m                         Traceback (most recent call last)",
      "\u001b[0;32m<ipython-input-2-9e1622b385b6>\u001b[0m in \u001b[0;36m<module>\u001b[0;34m\u001b[0m\n\u001b[0;32m----> 1\u001b[0;31m \u001b[0;36m1\u001b[0m\u001b[0;34m/\u001b[0m\u001b[0;36m0\u001b[0m\u001b[0;34m\u001b[0m\u001b[0;34m\u001b[0m\u001b[0m\n\u001b[0m",
      "\u001b[0;31mZeroDivisionError\u001b[0m: division by zero"
     ]
    }
   ],
   "source": [
    "1/0\n"
   ]
  },
  {
   "cell_type": "code",
   "execution_count": 3,
   "metadata": {},
   "outputs": [
    {
     "name": "stdout",
     "output_type": "stream",
     "text": [
      "Error\n"
     ]
    }
   ],
   "source": [
    "try:\n",
    "    1/0\n",
    "except:\n",
    "    print('Error')"
   ]
  },
  {
   "cell_type": "code",
   "execution_count": 5,
   "metadata": {},
   "outputs": [
    {
     "name": "stdout",
     "output_type": "stream",
     "text": [
      "Enter a number: alberto\n"
     ]
    },
    {
     "ename": "ValueError",
     "evalue": "could not convert string to float: 'alberto'",
     "output_type": "error",
     "traceback": [
      "\u001b[0;31m---------------------------------------------------------------------------\u001b[0m",
      "\u001b[0;31mValueError\u001b[0m                                Traceback (most recent call last)",
      "\u001b[0;32m<ipython-input-5-18b3b7108215>\u001b[0m in \u001b[0;36m<module>\u001b[0;34m\u001b[0m\n\u001b[0;32m----> 1\u001b[0;31m \u001b[0mnum\u001b[0m \u001b[0;34m=\u001b[0m \u001b[0mfloat\u001b[0m\u001b[0;34m(\u001b[0m\u001b[0minput\u001b[0m\u001b[0;34m(\u001b[0m\u001b[0;34m\"Enter a number: \"\u001b[0m\u001b[0;34m)\u001b[0m\u001b[0;34m)\u001b[0m\u001b[0;34m\u001b[0m\u001b[0;34m\u001b[0m\u001b[0m\n\u001b[0m",
      "\u001b[0;31mValueError\u001b[0m: could not convert string to float: 'alberto'"
     ]
    }
   ],
   "source": [
    "num = float(input(\"Enter a number: \"))"
   ]
  },
  {
   "cell_type": "code",
   "execution_count": 4,
   "metadata": {},
   "outputs": [
    {
     "name": "stdout",
     "output_type": "stream",
     "text": [
      "Enter a number: alberto\n",
      "That was not a number!\n"
     ]
    }
   ],
   "source": [
    "try:\n",
    "    num = float(input(\"Enter a number: \"))\n",
    "except(ValueError):\n",
    "    print(\"That was not a number!\")"
   ]
  },
  {
   "cell_type": "code",
   "execution_count": 8,
   "metadata": {},
   "outputs": [
    {
     "name": "stdout",
     "output_type": "stream",
     "text": [
      "Enter a number: al\n",
      "could not convert string to float: 'al'\n",
      "<class 'ValueError'>\n",
      "That was not a number!\n"
     ]
    }
   ],
   "source": [
    "try:\n",
    "    num = float(input(\"Enter a number: \"))\n",
    "except ValueError as e:\n",
    "    print(e)\n",
    "    print(type(e))\n",
    "    print(\"That was not a number!\")"
   ]
  },
  {
   "cell_type": "code",
   "execution_count": null,
   "metadata": {},
   "outputs": [],
   "source": []
  },
  {
   "cell_type": "code",
   "execution_count": null,
   "metadata": {},
   "outputs": [],
   "source": []
  },
  {
   "cell_type": "markdown",
   "metadata": {},
   "source": [
    "# Files"
   ]
  },
  {
   "cell_type": "code",
   "execution_count": 71,
   "metadata": {},
   "outputs": [],
   "source": [
    "filename = '../labs/data/02/shape-of-you-ed-sheeran-lyrics.txt'"
   ]
  },
  {
   "cell_type": "code",
   "execution_count": 12,
   "metadata": {},
   "outputs": [],
   "source": [
    "my_file = open(filename, 'r')"
   ]
  },
  {
   "cell_type": "code",
   "execution_count": 13,
   "metadata": {},
   "outputs": [],
   "source": [
    "letra = my_file.read()"
   ]
  },
  {
   "cell_type": "code",
   "execution_count": 14,
   "metadata": {},
   "outputs": [
    {
     "name": "stdout",
     "output_type": "stream",
     "text": [
      "The club isn't the best place to find a lover\n",
      "So the bar is where I go\n",
      "Me and my friends at the table doing shots\n",
      "Drinking fast and then we talk slow\n",
      "Come over and start up a conversation with just me\n",
      "And trust me I'll give it a chance now\n",
      "Take my hand, stop, put Van the Man on the jukebox\n",
      "And then we start to dance, and now I'm singing like\n",
      "Girl, you know I want your love\n",
      "Your love was handmade for somebody like me\n",
      "Come on now, follow my lead\n",
      "I may be crazy, don't mind me\n",
      "Say, boy, let's not talk too much\n",
      "Grab on my waist and put that body on me\n",
      "Come on now, follow my lead\n",
      "Come, come on now, follow my lead\n",
      "I'm in love with the shape of you\n",
      "We push and pull like a magnet do\n",
      "Although my heart is falling too\n",
      "I'm in love with your body\n",
      "And last night you were in my room\n",
      "And now my bedsheets smell like you\n",
      "Every day discovering something brand new\n",
      "I'm in love with your body\n",
      "I'm in love with your body\n",
      "I'm in love with your body\n",
      "I'm in love with your body\n",
      "Every day discovering something brand new\n",
      "I'm in love with the shape of you\n",
      "One week in we let the story begin\n",
      "We're going out on our first date\n",
      "You and me are thrifty, so go all you can eat\n",
      "Fill up your bag and I fill up a plate\n",
      "We talk for hours and hours about the sweet and the sour\n",
      "And how your family is doing okay\n",
      "Leave and get in a taxi, then kiss in the backseat\n",
      "Tell the driver make the radio play, and I'm singing like\n",
      "Girl, you know I want your love\n",
      "Your love was handmade for somebody like me\n",
      "Come on now, follow my lead\n",
      "I may be crazy, don't mind me\n",
      "Say, boy, let's not talk too much\n",
      "Grab on my waist and put that body on me\n",
      "Come on now, follow my lead\n",
      "Come, come on now, follow my lead\n",
      "I'm in love with the shape of you\n",
      "We push and pull like a magnet do\n",
      "Although my heart is falling too\n",
      "I'm in love with your body\n",
      "And last night you were in my room\n",
      "And now my bedsheets smell like you\n",
      "Every day discovering something brand new\n",
      "I'm in love with your body\n",
      "I'm in love with your body\n",
      "I'm in love with your body\n",
      "I'm in love with your body\n",
      "Every day discovering something brand new\n",
      "I'm in love with the shape of you\n",
      "Come on, be my baby, come on\n",
      "Come on, be my baby, come on\n",
      "Come on, be my baby, come on\n",
      "Come on, be my baby, come on\n",
      "Come on, be my baby, come on\n",
      "Come on, be my baby, come on\n",
      "Come on, be my baby, come on\n",
      "Come on, be my baby, come on\n",
      "I'm in love with the shape of you\n",
      "We push and pull like a magnet do\n",
      "Although my heart is falling too\n",
      "I'm in love with your body\n",
      "Last night you were in my room\n",
      "And now my bedsheets smell like you\n",
      "Every day discovering something brand new\n",
      "I'm in love with your body\n",
      "Come on, be my baby, come on\n",
      "Come on, be my baby, come on\n",
      "I'm in love with your body\n",
      "Come on, be my baby, come on\n",
      "Come on, be my baby, come on\n",
      "I'm in love with your body\n",
      "Come on, be my baby, come on\n",
      "Come on, be my baby, come on\n",
      "I'm in love with your body\n",
      "Every day discovering something brand new\n",
      "I'm in love with the shape of you\n"
     ]
    }
   ],
   "source": [
    "print(letra)"
   ]
  },
  {
   "cell_type": "markdown",
   "metadata": {},
   "source": [
    "### Read() moves to the end of the file"
   ]
  },
  {
   "cell_type": "code",
   "execution_count": 15,
   "metadata": {},
   "outputs": [],
   "source": [
    "letra2 = my_file.read()"
   ]
  },
  {
   "cell_type": "code",
   "execution_count": 16,
   "metadata": {},
   "outputs": [
    {
     "name": "stdout",
     "output_type": "stream",
     "text": [
      "\n"
     ]
    }
   ],
   "source": [
    "print(letra2)"
   ]
  },
  {
   "cell_type": "code",
   "execution_count": 33,
   "metadata": {},
   "outputs": [],
   "source": [
    "my_file.close()"
   ]
  },
  {
   "cell_type": "markdown",
   "metadata": {},
   "source": [
    "## readlines()"
   ]
  },
  {
   "cell_type": "code",
   "execution_count": 72,
   "metadata": {},
   "outputs": [],
   "source": [
    "my_file = open(filename, 'r')"
   ]
  },
  {
   "cell_type": "code",
   "execution_count": 73,
   "metadata": {},
   "outputs": [],
   "source": [
    "versos = my_file.readlines()"
   ]
  },
  {
   "cell_type": "code",
   "execution_count": 74,
   "metadata": {},
   "outputs": [
    {
     "data": {
      "text/plain": [
       "[\"The club isn't the best place to find a lover\\n\",\n",
       " 'So the bar is where I go\\n',\n",
       " 'Me and my friends at the table doing shots\\n',\n",
       " 'Drinking fast and then we talk slow\\n',\n",
       " 'Come over and start up a conversation with just me\\n',\n",
       " \"And trust me I'll give it a chance now\\n\",\n",
       " 'Take my hand, stop, put Van the Man on the jukebox\\n',\n",
       " \"And then we start to dance, and now I'm singing like\\n\",\n",
       " 'Girl, you know I want your love\\n',\n",
       " 'Your love was handmade for somebody like me\\n',\n",
       " 'Come on now, follow my lead\\n',\n",
       " \"I may be crazy, don't mind me\\n\",\n",
       " \"Say, boy, let's not talk too much\\n\",\n",
       " 'Grab on my waist and put that body on me\\n',\n",
       " 'Come on now, follow my lead\\n',\n",
       " 'Come, come on now, follow my lead\\n',\n",
       " \"I'm in love with the shape of you\\n\",\n",
       " 'We push and pull like a magnet do\\n',\n",
       " 'Although my heart is falling too\\n',\n",
       " \"I'm in love with your body\\n\",\n",
       " 'And last night you were in my room\\n',\n",
       " 'And now my bedsheets smell like you\\n',\n",
       " 'Every day discovering something brand new\\n',\n",
       " \"I'm in love with your body\\n\",\n",
       " \"I'm in love with your body\\n\",\n",
       " \"I'm in love with your body\\n\",\n",
       " \"I'm in love with your body\\n\",\n",
       " 'Every day discovering something brand new\\n',\n",
       " \"I'm in love with the shape of you\\n\",\n",
       " 'One week in we let the story begin\\n',\n",
       " \"We're going out on our first date\\n\",\n",
       " 'You and me are thrifty, so go all you can eat\\n',\n",
       " 'Fill up your bag and I fill up a plate\\n',\n",
       " 'We talk for hours and hours about the sweet and the sour\\n',\n",
       " 'And how your family is doing okay\\n',\n",
       " 'Leave and get in a taxi, then kiss in the backseat\\n',\n",
       " \"Tell the driver make the radio play, and I'm singing like\\n\",\n",
       " 'Girl, you know I want your love\\n',\n",
       " 'Your love was handmade for somebody like me\\n',\n",
       " 'Come on now, follow my lead\\n',\n",
       " \"I may be crazy, don't mind me\\n\",\n",
       " \"Say, boy, let's not talk too much\\n\",\n",
       " 'Grab on my waist and put that body on me\\n',\n",
       " 'Come on now, follow my lead\\n',\n",
       " 'Come, come on now, follow my lead\\n',\n",
       " \"I'm in love with the shape of you\\n\",\n",
       " 'We push and pull like a magnet do\\n',\n",
       " 'Although my heart is falling too\\n',\n",
       " \"I'm in love with your body\\n\",\n",
       " 'And last night you were in my room\\n',\n",
       " 'And now my bedsheets smell like you\\n',\n",
       " 'Every day discovering something brand new\\n',\n",
       " \"I'm in love with your body\\n\",\n",
       " \"I'm in love with your body\\n\",\n",
       " \"I'm in love with your body\\n\",\n",
       " \"I'm in love with your body\\n\",\n",
       " 'Every day discovering something brand new\\n',\n",
       " \"I'm in love with the shape of you\\n\",\n",
       " 'Come on, be my baby, come on\\n',\n",
       " 'Come on, be my baby, come on\\n',\n",
       " 'Come on, be my baby, come on\\n',\n",
       " 'Come on, be my baby, come on\\n',\n",
       " 'Come on, be my baby, come on\\n',\n",
       " 'Come on, be my baby, come on\\n',\n",
       " 'Come on, be my baby, come on\\n',\n",
       " 'Come on, be my baby, come on\\n',\n",
       " \"I'm in love with the shape of you\\n\",\n",
       " 'We push and pull like a magnet do\\n',\n",
       " 'Although my heart is falling too\\n',\n",
       " \"I'm in love with your body\\n\",\n",
       " 'Last night you were in my room\\n',\n",
       " 'And now my bedsheets smell like you\\n',\n",
       " 'Every day discovering something brand new\\n',\n",
       " \"I'm in love with your body\\n\",\n",
       " 'Come on, be my baby, come on\\n',\n",
       " 'Come on, be my baby, come on\\n',\n",
       " \"I'm in love with your body\\n\",\n",
       " 'Come on, be my baby, come on\\n',\n",
       " 'Come on, be my baby, come on\\n',\n",
       " \"I'm in love with your body\\n\",\n",
       " 'Come on, be my baby, come on\\n',\n",
       " 'Come on, be my baby, come on\\n',\n",
       " \"I'm in love with your body\\n\",\n",
       " 'Every day discovering something brand new\\n',\n",
       " \"I'm in love with the shape of you\"]"
      ]
     },
     "execution_count": 74,
     "metadata": {},
     "output_type": "execute_result"
    }
   ],
   "source": [
    "versos"
   ]
  },
  {
   "cell_type": "code",
   "execution_count": 75,
   "metadata": {},
   "outputs": [],
   "source": [
    "my_file.close()"
   ]
  },
  {
   "cell_type": "markdown",
   "metadata": {},
   "source": [
    "## Using for"
   ]
  },
  {
   "cell_type": "code",
   "execution_count": 38,
   "metadata": {},
   "outputs": [],
   "source": [
    "csv_filename = '/home/bioinformatica/Ironhack/3_Code/labs/data/01/sample_file_0.csv'"
   ]
  },
  {
   "cell_type": "code",
   "execution_count": 39,
   "metadata": {},
   "outputs": [],
   "source": [
    "csv_file = open(csv_filename,'r')"
   ]
  },
  {
   "cell_type": "code",
   "execution_count": 40,
   "metadata": {},
   "outputs": [
    {
     "name": "stdout",
     "output_type": "stream",
     "text": [
      "0,1,2,3,4,5,6,7,8,9,10,11,12,13,14,15,16,17,18,19\n",
      "\n",
      "0.7347510852128797,0.195361547414176,0.7343092314001137,0.598184150790113,0.7634334207035142,0.26343379232316166,0.8680663549990865,0.05809249997873411,0.7535023641545986,0.5875129985121497,0.31160828188427525,0.17835553601357446,0.18292212584258682,0.14763098677762876,0.39118785747979345,0.8160493911980281,0.7490680818183477,0.29326038172884805,0.9378284594731399,0.8808575048234396\n",
      "\n",
      "0.7726065618884856,0.44539068706313334,0.24964158612415766,0.7879222598307901,0.598582600039443,0.8272382506031565,0.6241257222313511,0.6015241437645209,0.688753283794671,0.33887040208369323,0.08159537841871223,0.471474408740446,0.26744280343306903,0.45335093437290996,0.8007161479739965,0.04574912846779866,0.6837931288231841,0.3897887717569518,0.01678665351522224,0.5036946763567658\n",
      "\n",
      "0.2264277057394144,0.2687636255734599,0.6942620171804784,0.6223345010570517,0.06384346046750078,0.12268334759663768,0.815624834853178,0.5845421568821125,0.03259404851595815,0.5897748688942727,0.7643495353716243,0.6509725548242318,0.5657052240468928,0.6917843095759869,0.26522327502586784,0.7390312927111312,0.5603938361800003,0.3348015507267528,0.5176938726538736,0.6461102531556266\n",
      "\n",
      "0.36274798437832456,0.49542976954960105,0.11387628015995332,0.59414927475757,0.6125223233889892,0.6252035309954888,0.8640498341918672,0.2602788751257036,0.5288733889154993,0.1680431428106529,0.7159290265157912,0.6770142654795221,0.17573500425980149,0.6323697524361324,0.9267149333179154,0.08567530033748783,0.12052497431699338,0.1417456685591575,0.7711443458405843,0.4896604210562888\n",
      "\n",
      "0.03341544945925423,0.3404325433462202,0.4649714815238164,0.36373700128017106,0.02581491487189136,0.4341291641280539,0.4151631926115392,0.8922104131249807,0.381700744780508,0.4152638711413228,0.7908008486938785,0.6969299553911462,0.8197511267505602,0.9440286139708659,0.8699647196644326,0.04172331304957366,0.8191396818327873,0.6760508374402305,0.10934877993284309,0.8729470926088846\n",
      "\n"
     ]
    }
   ],
   "source": [
    "for line in csv_file:\n",
    "    print(line)"
   ]
  },
  {
   "cell_type": "code",
   "execution_count": 48,
   "metadata": {},
   "outputs": [],
   "source": [
    "csv_file.close()"
   ]
  },
  {
   "cell_type": "code",
   "execution_count": 47,
   "metadata": {},
   "outputs": [
    {
     "data": {
      "text/plain": [
       "[0.03341544945925423,\n",
       " 0.3404325433462202,\n",
       " 0.4649714815238164,\n",
       " 0.36373700128017106,\n",
       " 0.02581491487189136,\n",
       " 0.4341291641280539,\n",
       " 0.4151631926115392,\n",
       " 0.8922104131249807,\n",
       " 0.381700744780508,\n",
       " 0.4152638711413228,\n",
       " 0.7908008486938785,\n",
       " 0.6969299553911462,\n",
       " 0.8197511267505602,\n",
       " 0.9440286139708659,\n",
       " 0.8699647196644326,\n",
       " 0.04172331304957366,\n",
       " 0.8191396818327873,\n",
       " 0.6760508374402305,\n",
       " 0.10934877993284309,\n",
       " 0.8729470926088846]"
      ]
     },
     "execution_count": 47,
     "metadata": {},
     "output_type": "execute_result"
    }
   ],
   "source": [
    "[ float(i) for i in line.strip().split(',') ]"
   ]
  },
  {
   "cell_type": "markdown",
   "metadata": {},
   "source": [
    "## Using with"
   ]
  },
  {
   "cell_type": "code",
   "execution_count": 54,
   "metadata": {},
   "outputs": [
    {
     "name": "stdout",
     "output_type": "stream",
     "text": [
      "0,1,2,3,4,5,6,7,8,9,10,11,12,13,14,15,16,17,18,19\n",
      "0.7347510852128797,0.195361547414176,0.7343092314001137,0.598184150790113,0.7634334207035142,0.26343379232316166,0.8680663549990865,0.05809249997873411,0.7535023641545986,0.5875129985121497,0.31160828188427525,0.17835553601357446,0.18292212584258682,0.14763098677762876,0.39118785747979345,0.8160493911980281,0.7490680818183477,0.29326038172884805,0.9378284594731399,0.8808575048234396\n",
      "0.7726065618884856,0.44539068706313334,0.24964158612415766,0.7879222598307901,0.598582600039443,0.8272382506031565,0.6241257222313511,0.6015241437645209,0.688753283794671,0.33887040208369323,0.08159537841871223,0.471474408740446,0.26744280343306903,0.45335093437290996,0.8007161479739965,0.04574912846779866,0.6837931288231841,0.3897887717569518,0.01678665351522224,0.5036946763567658\n",
      "0.2264277057394144,0.2687636255734599,0.6942620171804784,0.6223345010570517,0.06384346046750078,0.12268334759663768,0.815624834853178,0.5845421568821125,0.03259404851595815,0.5897748688942727,0.7643495353716243,0.6509725548242318,0.5657052240468928,0.6917843095759869,0.26522327502586784,0.7390312927111312,0.5603938361800003,0.3348015507267528,0.5176938726538736,0.6461102531556266\n",
      "0.36274798437832456,0.49542976954960105,0.11387628015995332,0.59414927475757,0.6125223233889892,0.6252035309954888,0.8640498341918672,0.2602788751257036,0.5288733889154993,0.1680431428106529,0.7159290265157912,0.6770142654795221,0.17573500425980149,0.6323697524361324,0.9267149333179154,0.08567530033748783,0.12052497431699338,0.1417456685591575,0.7711443458405843,0.4896604210562888\n",
      "0.03341544945925423,0.3404325433462202,0.4649714815238164,0.36373700128017106,0.02581491487189136,0.4341291641280539,0.4151631926115392,0.8922104131249807,0.381700744780508,0.4152638711413228,0.7908008486938785,0.6969299553911462,0.8197511267505602,0.9440286139708659,0.8699647196644326,0.04172331304957366,0.8191396818327873,0.6760508374402305,0.10934877993284309,0.8729470926088846\n"
     ]
    }
   ],
   "source": [
    "with open(csv_filename,'r') as csv_file:\n",
    "    for line in csv_file:\n",
    "        print(line.strip())"
   ]
  },
  {
   "cell_type": "markdown",
   "metadata": {},
   "source": [
    "## Writing files"
   ]
  },
  {
   "cell_type": "code",
   "execution_count": 67,
   "metadata": {},
   "outputs": [
    {
     "data": {
      "text/plain": [
       "[\"The club isn't the best place to find a lover\\n\",\n",
       " 'So the bar is where I go\\n',\n",
       " 'Me and my friends at the table doing shots\\n',\n",
       " 'Drinking fast and then we talk slow\\n',\n",
       " 'Come over and start up a conversation with just me\\n',\n",
       " \"And trust me I'll give it a chance now\\n\",\n",
       " 'Take my hand, stop, put Van the Man on the jukebox\\n',\n",
       " \"And then we start to dance, and now I'm singing like\\n\",\n",
       " 'Girl, you know I want your love\\n',\n",
       " 'Your love was handmade for somebody like me\\n',\n",
       " 'Come on now, follow my lead\\n',\n",
       " \"I may be crazy, don't mind me\\n\",\n",
       " \"Say, boy, let's not talk too much\\n\",\n",
       " 'Grab on my waist and put that body on me\\n',\n",
       " 'Come on now, follow my lead\\n',\n",
       " 'Come, come on now, follow my lead\\n',\n",
       " \"I'm in love with the shape of you\\n\",\n",
       " 'We push and pull like a magnet do\\n',\n",
       " 'Although my heart is falling too\\n',\n",
       " \"I'm in love with your body\\n\",\n",
       " 'And last night you were in my room\\n',\n",
       " 'And now my bedsheets smell like you\\n',\n",
       " 'Every day discovering something brand new\\n',\n",
       " \"I'm in love with your body\\n\",\n",
       " \"I'm in love with your body\\n\",\n",
       " \"I'm in love with your body\\n\",\n",
       " \"I'm in love with your body\\n\",\n",
       " 'Every day discovering something brand new\\n',\n",
       " \"I'm in love with the shape of you\\n\",\n",
       " 'One week in we let the story begin\\n',\n",
       " \"We're going out on our first date\\n\",\n",
       " 'You and me are thrifty, so go all you can eat\\n',\n",
       " 'Fill up your bag and I fill up a plate\\n',\n",
       " 'We talk for hours and hours about the sweet and the sour\\n',\n",
       " 'And how your family is doing okay\\n',\n",
       " 'Leave and get in a taxi, then kiss in the backseat\\n',\n",
       " \"Tell the driver make the radio play, and I'm singing like\\n\",\n",
       " 'Girl, you know I want your love\\n',\n",
       " 'Your love was handmade for somebody like me\\n',\n",
       " 'Come on now, follow my lead\\n',\n",
       " \"I may be crazy, don't mind me\\n\",\n",
       " \"Say, boy, let's not talk too much\\n\",\n",
       " 'Grab on my waist and put that body on me\\n',\n",
       " 'Come on now, follow my lead\\n',\n",
       " 'Come, come on now, follow my lead\\n',\n",
       " \"I'm in love with the shape of you\\n\",\n",
       " 'We push and pull like a magnet do\\n',\n",
       " 'Although my heart is falling too\\n',\n",
       " \"I'm in love with your body\\n\",\n",
       " 'And last night you were in my room\\n',\n",
       " 'And now my bedsheets smell like you\\n',\n",
       " 'Every day discovering something brand new\\n',\n",
       " \"I'm in love with your body\\n\",\n",
       " \"I'm in love with your body\\n\",\n",
       " \"I'm in love with your body\\n\",\n",
       " \"I'm in love with your body\\n\",\n",
       " 'Every day discovering something brand new\\n',\n",
       " \"I'm in love with the shape of you\\n\",\n",
       " 'Come on, be my baby, come on\\n',\n",
       " 'Come on, be my baby, come on\\n',\n",
       " 'Come on, be my baby, come on\\n',\n",
       " 'Come on, be my baby, come on\\n',\n",
       " 'Come on, be my baby, come on\\n',\n",
       " 'Come on, be my baby, come on\\n',\n",
       " 'Come on, be my baby, come on\\n',\n",
       " 'Come on, be my baby, come on\\n',\n",
       " \"I'm in love with the shape of you\\n\",\n",
       " 'We push and pull like a magnet do\\n',\n",
       " 'Although my heart is falling too\\n',\n",
       " \"I'm in love with your body\\n\",\n",
       " 'Last night you were in my room\\n',\n",
       " 'And now my bedsheets smell like you\\n',\n",
       " 'Every day discovering something brand new\\n',\n",
       " \"I'm in love with your body\\n\",\n",
       " 'Come on, be my baby, come on\\n',\n",
       " 'Come on, be my baby, come on\\n',\n",
       " \"I'm in love with your body\\n\",\n",
       " 'Come on, be my baby, come on\\n',\n",
       " 'Come on, be my baby, come on\\n',\n",
       " \"I'm in love with your body\\n\",\n",
       " 'Come on, be my baby, come on\\n',\n",
       " 'Come on, be my baby, come on\\n',\n",
       " \"I'm in love with your body\\n\",\n",
       " 'Every day discovering something brand new\\n',\n",
       " \"I'm in love with the shape of you\"]"
      ]
     },
     "execution_count": 67,
     "metadata": {},
     "output_type": "execute_result"
    }
   ],
   "source": [
    "versos"
   ]
  },
  {
   "cell_type": "code",
   "execution_count": 61,
   "metadata": {},
   "outputs": [],
   "source": [
    "filename = 'shapeofyou.txt'"
   ]
  },
  {
   "cell_type": "code",
   "execution_count": 62,
   "metadata": {},
   "outputs": [],
   "source": [
    "with open(filename,'w') as file:\n",
    "    file.writelines(versos)"
   ]
  },
  {
   "cell_type": "code",
   "execution_count": 65,
   "metadata": {},
   "outputs": [],
   "source": [
    "with open(filename,'w') as newfile:\n",
    "    for line in versos:\n",
    "        print('hola ' + line.strip(), file=newfile)"
   ]
  },
  {
   "cell_type": "markdown",
   "metadata": {},
   "source": [
    "# Using Pandas"
   ]
  },
  {
   "cell_type": "code",
   "execution_count": 49,
   "metadata": {},
   "outputs": [],
   "source": [
    "import pandas as pd"
   ]
  },
  {
   "cell_type": "code",
   "execution_count": 50,
   "metadata": {},
   "outputs": [],
   "source": [
    "df = pd.read_csv(csv_filename)"
   ]
  },
  {
   "cell_type": "code",
   "execution_count": 51,
   "metadata": {},
   "outputs": [
    {
     "data": {
      "text/html": [
       "<div>\n",
       "<style scoped>\n",
       "    .dataframe tbody tr th:only-of-type {\n",
       "        vertical-align: middle;\n",
       "    }\n",
       "\n",
       "    .dataframe tbody tr th {\n",
       "        vertical-align: top;\n",
       "    }\n",
       "\n",
       "    .dataframe thead th {\n",
       "        text-align: right;\n",
       "    }\n",
       "</style>\n",
       "<table border=\"1\" class=\"dataframe\">\n",
       "  <thead>\n",
       "    <tr style=\"text-align: right;\">\n",
       "      <th></th>\n",
       "      <th>0</th>\n",
       "      <th>1</th>\n",
       "      <th>2</th>\n",
       "      <th>3</th>\n",
       "      <th>4</th>\n",
       "      <th>5</th>\n",
       "      <th>6</th>\n",
       "      <th>7</th>\n",
       "      <th>8</th>\n",
       "      <th>9</th>\n",
       "      <th>10</th>\n",
       "      <th>11</th>\n",
       "      <th>12</th>\n",
       "      <th>13</th>\n",
       "      <th>14</th>\n",
       "      <th>15</th>\n",
       "      <th>16</th>\n",
       "      <th>17</th>\n",
       "      <th>18</th>\n",
       "      <th>19</th>\n",
       "    </tr>\n",
       "  </thead>\n",
       "  <tbody>\n",
       "    <tr>\n",
       "      <th>0</th>\n",
       "      <td>0.734751</td>\n",
       "      <td>0.195362</td>\n",
       "      <td>0.734309</td>\n",
       "      <td>0.598184</td>\n",
       "      <td>0.763433</td>\n",
       "      <td>0.263434</td>\n",
       "      <td>0.868066</td>\n",
       "      <td>0.058092</td>\n",
       "      <td>0.753502</td>\n",
       "      <td>0.587513</td>\n",
       "      <td>0.311608</td>\n",
       "      <td>0.178356</td>\n",
       "      <td>0.182922</td>\n",
       "      <td>0.147631</td>\n",
       "      <td>0.391188</td>\n",
       "      <td>0.816049</td>\n",
       "      <td>0.749068</td>\n",
       "      <td>0.293260</td>\n",
       "      <td>0.937828</td>\n",
       "      <td>0.880858</td>\n",
       "    </tr>\n",
       "    <tr>\n",
       "      <th>1</th>\n",
       "      <td>0.772607</td>\n",
       "      <td>0.445391</td>\n",
       "      <td>0.249642</td>\n",
       "      <td>0.787922</td>\n",
       "      <td>0.598583</td>\n",
       "      <td>0.827238</td>\n",
       "      <td>0.624126</td>\n",
       "      <td>0.601524</td>\n",
       "      <td>0.688753</td>\n",
       "      <td>0.338870</td>\n",
       "      <td>0.081595</td>\n",
       "      <td>0.471474</td>\n",
       "      <td>0.267443</td>\n",
       "      <td>0.453351</td>\n",
       "      <td>0.800716</td>\n",
       "      <td>0.045749</td>\n",
       "      <td>0.683793</td>\n",
       "      <td>0.389789</td>\n",
       "      <td>0.016787</td>\n",
       "      <td>0.503695</td>\n",
       "    </tr>\n",
       "    <tr>\n",
       "      <th>2</th>\n",
       "      <td>0.226428</td>\n",
       "      <td>0.268764</td>\n",
       "      <td>0.694262</td>\n",
       "      <td>0.622335</td>\n",
       "      <td>0.063843</td>\n",
       "      <td>0.122683</td>\n",
       "      <td>0.815625</td>\n",
       "      <td>0.584542</td>\n",
       "      <td>0.032594</td>\n",
       "      <td>0.589775</td>\n",
       "      <td>0.764350</td>\n",
       "      <td>0.650973</td>\n",
       "      <td>0.565705</td>\n",
       "      <td>0.691784</td>\n",
       "      <td>0.265223</td>\n",
       "      <td>0.739031</td>\n",
       "      <td>0.560394</td>\n",
       "      <td>0.334802</td>\n",
       "      <td>0.517694</td>\n",
       "      <td>0.646110</td>\n",
       "    </tr>\n",
       "    <tr>\n",
       "      <th>3</th>\n",
       "      <td>0.362748</td>\n",
       "      <td>0.495430</td>\n",
       "      <td>0.113876</td>\n",
       "      <td>0.594149</td>\n",
       "      <td>0.612522</td>\n",
       "      <td>0.625204</td>\n",
       "      <td>0.864050</td>\n",
       "      <td>0.260279</td>\n",
       "      <td>0.528873</td>\n",
       "      <td>0.168043</td>\n",
       "      <td>0.715929</td>\n",
       "      <td>0.677014</td>\n",
       "      <td>0.175735</td>\n",
       "      <td>0.632370</td>\n",
       "      <td>0.926715</td>\n",
       "      <td>0.085675</td>\n",
       "      <td>0.120525</td>\n",
       "      <td>0.141746</td>\n",
       "      <td>0.771144</td>\n",
       "      <td>0.489660</td>\n",
       "    </tr>\n",
       "    <tr>\n",
       "      <th>4</th>\n",
       "      <td>0.033415</td>\n",
       "      <td>0.340433</td>\n",
       "      <td>0.464971</td>\n",
       "      <td>0.363737</td>\n",
       "      <td>0.025815</td>\n",
       "      <td>0.434129</td>\n",
       "      <td>0.415163</td>\n",
       "      <td>0.892210</td>\n",
       "      <td>0.381701</td>\n",
       "      <td>0.415264</td>\n",
       "      <td>0.790801</td>\n",
       "      <td>0.696930</td>\n",
       "      <td>0.819751</td>\n",
       "      <td>0.944029</td>\n",
       "      <td>0.869965</td>\n",
       "      <td>0.041723</td>\n",
       "      <td>0.819140</td>\n",
       "      <td>0.676051</td>\n",
       "      <td>0.109349</td>\n",
       "      <td>0.872947</td>\n",
       "    </tr>\n",
       "  </tbody>\n",
       "</table>\n",
       "</div>"
      ],
      "text/plain": [
       "          0         1         2         3         4         5         6  \\\n",
       "0  0.734751  0.195362  0.734309  0.598184  0.763433  0.263434  0.868066   \n",
       "1  0.772607  0.445391  0.249642  0.787922  0.598583  0.827238  0.624126   \n",
       "2  0.226428  0.268764  0.694262  0.622335  0.063843  0.122683  0.815625   \n",
       "3  0.362748  0.495430  0.113876  0.594149  0.612522  0.625204  0.864050   \n",
       "4  0.033415  0.340433  0.464971  0.363737  0.025815  0.434129  0.415163   \n",
       "\n",
       "          7         8         9        10        11        12        13  \\\n",
       "0  0.058092  0.753502  0.587513  0.311608  0.178356  0.182922  0.147631   \n",
       "1  0.601524  0.688753  0.338870  0.081595  0.471474  0.267443  0.453351   \n",
       "2  0.584542  0.032594  0.589775  0.764350  0.650973  0.565705  0.691784   \n",
       "3  0.260279  0.528873  0.168043  0.715929  0.677014  0.175735  0.632370   \n",
       "4  0.892210  0.381701  0.415264  0.790801  0.696930  0.819751  0.944029   \n",
       "\n",
       "         14        15        16        17        18        19  \n",
       "0  0.391188  0.816049  0.749068  0.293260  0.937828  0.880858  \n",
       "1  0.800716  0.045749  0.683793  0.389789  0.016787  0.503695  \n",
       "2  0.265223  0.739031  0.560394  0.334802  0.517694  0.646110  \n",
       "3  0.926715  0.085675  0.120525  0.141746  0.771144  0.489660  \n",
       "4  0.869965  0.041723  0.819140  0.676051  0.109349  0.872947  "
      ]
     },
     "execution_count": 51,
     "metadata": {},
     "output_type": "execute_result"
    }
   ],
   "source": [
    "df.head()"
   ]
  },
  {
   "cell_type": "markdown",
   "metadata": {},
   "source": [
    "# Module os"
   ]
  },
  {
   "cell_type": "code",
   "execution_count": 97,
   "metadata": {},
   "outputs": [],
   "source": [
    "carpeta = '/home/bioinformatica/Ironhack/3_Code/labs/data/01/'"
   ]
  },
  {
   "cell_type": "code",
   "execution_count": 98,
   "metadata": {},
   "outputs": [],
   "source": [
    "import os"
   ]
  },
  {
   "cell_type": "code",
   "execution_count": 103,
   "metadata": {},
   "outputs": [
    {
     "data": {
      "text/plain": [
       "['sample_file_7.csv',\n",
       " 'sample_file_6.csv',\n",
       " 'sample_file_5.csv',\n",
       " 'sample_file_2.csv',\n",
       " 'sample_file_8.csv',\n",
       " 'sample_file_4.csv',\n",
       " 'sample_file_9.csv',\n",
       " 'sample_file_1.csv',\n",
       " 'sample_file_3.csv',\n",
       " 'sample_file_0.csv']"
      ]
     },
     "execution_count": 103,
     "metadata": {},
     "output_type": "execute_result"
    }
   ],
   "source": [
    "[ file for file in os.listdir(carpeta) if file.endswith('.csv')]"
   ]
  }
 ],
 "metadata": {
  "kernelspec": {
   "display_name": "Ironhack",
   "language": "python",
   "name": "ironhack"
  },
  "language_info": {
   "codemirror_mode": {
    "name": "ipython",
    "version": 3
   },
   "file_extension": ".py",
   "mimetype": "text/x-python",
   "name": "python",
   "nbconvert_exporter": "python",
   "pygments_lexer": "ipython3",
   "version": "3.7.3"
  },
  "toc": {
   "base_numbering": 1,
   "nav_menu": {},
   "number_sections": true,
   "sideBar": true,
   "skip_h1_title": false,
   "title_cell": "Table of Contents",
   "title_sidebar": "Contents",
   "toc_cell": true,
   "toc_position": {},
   "toc_section_display": true,
   "toc_window_display": false
  },
  "varInspector": {
   "cols": {
    "lenName": 16,
    "lenType": 16,
    "lenVar": 40
   },
   "kernels_config": {
    "python": {
     "delete_cmd_postfix": "",
     "delete_cmd_prefix": "del ",
     "library": "var_list.py",
     "varRefreshCmd": "print(var_dic_list())"
    },
    "r": {
     "delete_cmd_postfix": ") ",
     "delete_cmd_prefix": "rm(",
     "library": "var_list.r",
     "varRefreshCmd": "cat(var_dic_list()) "
    }
   },
   "types_to_exclude": [
    "module",
    "function",
    "builtin_function_or_method",
    "instance",
    "_Feature"
   ],
   "window_display": false
  }
 },
 "nbformat": 4,
 "nbformat_minor": 4
}
