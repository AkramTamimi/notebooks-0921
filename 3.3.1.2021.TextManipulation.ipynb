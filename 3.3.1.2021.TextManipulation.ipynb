{
 "cells": [
  {
   "cell_type": "markdown",
   "id": "e41b9288",
   "metadata": {
    "toc": true
   },
   "source": [
    "<h1>Table of Contents<span class=\"tocSkip\"></span></h1>\n",
    "<div class=\"toc\"><ul class=\"toc-item\"></ul></div>"
   ]
  },
  {
   "cell_type": "code",
   "execution_count": 1,
   "id": "67b68029",
   "metadata": {},
   "outputs": [],
   "source": [
    "with open('data/easy_on_me.txt') as f:\n",
    "    cancion = f.read()"
   ]
  },
  {
   "cell_type": "code",
   "execution_count": 2,
   "id": "2d7a6a90",
   "metadata": {},
   "outputs": [
    {
     "name": "stdout",
     "output_type": "stream",
     "text": [
      "[Verse 1]\n",
      "There ain't no gold in this river\n",
      "That I've been washin' my hands in forever\n",
      "I know there is hope in these waters\n",
      "But I can't bring myself to swim\n",
      "When I am drowning in this silence\n",
      "Baby, let me in\n",
      "\n",
      "[Chorus]\n",
      "Go easy on me, baby\n",
      "I was still a child\n",
      "Didn't get the chance to\n",
      "Feel the world around me\n",
      "I had no time to choose what I chose to do\n",
      "So go easy on me\n",
      "\n",
      "[Verse 2]\n",
      "There ain't no room for things to change\n",
      "When we are both so deeply stuck in our ways\n",
      "You can't deny how hard I have tried\n",
      "I changed who I was to put you both first\n",
      "But now I give up\n",
      "\n",
      "[Chorus]\n",
      "Go easy on mе, baby\n",
      "I was still a child\n",
      "Didn't get the chance to\n",
      "Feel thе world around me\n",
      "Had no time to choose what I chose to do\n",
      "So go easy on me\n",
      "[Bridge]\n",
      "I had good intentions\n",
      "And the highest hopes\n",
      "But I know right now\n",
      "It probably doesn't even show\n",
      "\n",
      "[Chorus]\n",
      "Go easy on me, baby\n",
      "I was still a child\n",
      "I didn't get the chance to\n",
      "Feel the world around me\n",
      "I had no time to choose what I chose to do\n",
      "So go easy on me\n",
      "\n"
     ]
    }
   ],
   "source": [
    "print(cancion)"
   ]
  },
  {
   "cell_type": "code",
   "execution_count": 3,
   "id": "024a3c38",
   "metadata": {},
   "outputs": [
    {
     "data": {
      "text/plain": [
       "\"[Verse 1]\\nThere ain't no gold in this river\\nThat I've been washin' my hands in forever\\nI know there is hope in these waters\\nBut I can't bring myself to swim\\nWhen I am drowning in this silence\\nBaby, let me in\\n\\n[Chorus]\\nGo easy on me, baby\\nI was still a child\\nDidn't get the chance to\\nFeel the world around me\\nI had no time to choose what I chose to do\\nSo go easy on me\\n\\n[Verse 2]\\nThere ain't no room for things to change\\nWhen we are both so deeply stuck in our ways\\nYou can't deny how hard I have tried\\nI changed who I was to put you both first\\nBut now I give up\\n\\n[Chorus]\\nGo easy on mе, baby\\nI was still a child\\nDidn't get the chance to\\nFeel thе world around me\\nHad no time to choose what I chose to do\\nSo go easy on me\\n[Bridge]\\nI had good intentions\\nAnd the highest hopes\\nBut I know right now\\nIt probably doesn't even show\\n\\n[Chorus]\\nGo easy on me, baby\\nI was still a child\\nI didn't get the chance to\\nFeel the world around me\\nI had no time to choose what I chose to do\\nSo go easy on me\\n\""
      ]
     },
     "execution_count": 3,
     "metadata": {},
     "output_type": "execute_result"
    }
   ],
   "source": [
    "cancion"
   ]
  },
  {
   "cell_type": "code",
   "execution_count": 6,
   "id": "56bbc88a",
   "metadata": {},
   "outputs": [
    {
     "data": {
      "text/plain": [
       "['[Verse 1]',\n",
       " \"There ain't no gold in this river\",\n",
       " \"That I've been washin' my hands in forever\",\n",
       " 'I know there is hope in these waters',\n",
       " \"But I can't bring myself to swim\",\n",
       " 'When I am drowning in this silence',\n",
       " 'Baby, let me in',\n",
       " '',\n",
       " '[Chorus]',\n",
       " 'Go easy on me, baby',\n",
       " 'I was still a child',\n",
       " \"Didn't get the chance to\",\n",
       " 'Feel the world around me',\n",
       " 'I had no time to choose what I chose to do',\n",
       " 'So go easy on me',\n",
       " '',\n",
       " '[Verse 2]',\n",
       " \"There ain't no room for things to change\",\n",
       " 'When we are both so deeply stuck in our ways',\n",
       " \"You can't deny how hard I have tried\",\n",
       " 'I changed who I was to put you both first',\n",
       " 'But now I give up',\n",
       " '',\n",
       " '[Chorus]',\n",
       " 'Go easy on mе, baby',\n",
       " 'I was still a child',\n",
       " \"Didn't get the chance to\",\n",
       " 'Feel thе world around me',\n",
       " 'Had no time to choose what I chose to do',\n",
       " 'So go easy on me',\n",
       " '[Bridge]',\n",
       " 'I had good intentions',\n",
       " 'And the highest hopes',\n",
       " 'But I know right now',\n",
       " \"It probably doesn't even show\",\n",
       " '',\n",
       " '[Chorus]',\n",
       " 'Go easy on me, baby',\n",
       " 'I was still a child',\n",
       " \"I didn't get the chance to\",\n",
       " 'Feel the world around me',\n",
       " 'I had no time to choose what I chose to do',\n",
       " 'So go easy on me',\n",
       " '']"
      ]
     },
     "execution_count": 6,
     "metadata": {},
     "output_type": "execute_result"
    }
   ],
   "source": [
    "versos = cancion.split('\\n')\n",
    "versos"
   ]
  },
  {
   "cell_type": "code",
   "execution_count": 7,
   "id": "41b99a31",
   "metadata": {},
   "outputs": [],
   "source": [
    "def remove_helpers(lista):\n",
    "    return list(filter(lambda x: not x.startswith('['), lista))"
   ]
  },
  {
   "cell_type": "code",
   "execution_count": 9,
   "id": "a36f5886",
   "metadata": {},
   "outputs": [],
   "source": [
    "def remove_empty_lines(lista):\n",
    "    return list(filter(lambda x: x, lista))"
   ]
  },
  {
   "cell_type": "code",
   "execution_count": 12,
   "id": "7b7be956",
   "metadata": {},
   "outputs": [],
   "source": [
    "versos_clean = remove_helpers(remove_empty_lines(versos))"
   ]
  },
  {
   "cell_type": "code",
   "execution_count": 13,
   "id": "10223d17",
   "metadata": {},
   "outputs": [
    {
     "data": {
      "text/plain": [
       "[\"There ain't no gold in this river\",\n",
       " \"That I've been washin' my hands in forever\",\n",
       " 'I know there is hope in these waters',\n",
       " \"But I can't bring myself to swim\",\n",
       " 'When I am drowning in this silence',\n",
       " 'Baby, let me in',\n",
       " 'Go easy on me, baby',\n",
       " 'I was still a child',\n",
       " \"Didn't get the chance to\",\n",
       " 'Feel the world around me',\n",
       " 'I had no time to choose what I chose to do',\n",
       " 'So go easy on me',\n",
       " \"There ain't no room for things to change\",\n",
       " 'When we are both so deeply stuck in our ways',\n",
       " \"You can't deny how hard I have tried\",\n",
       " 'I changed who I was to put you both first',\n",
       " 'But now I give up',\n",
       " 'Go easy on mе, baby',\n",
       " 'I was still a child',\n",
       " \"Didn't get the chance to\",\n",
       " 'Feel thе world around me',\n",
       " 'Had no time to choose what I chose to do',\n",
       " 'So go easy on me',\n",
       " 'I had good intentions',\n",
       " 'And the highest hopes',\n",
       " 'But I know right now',\n",
       " \"It probably doesn't even show\",\n",
       " 'Go easy on me, baby',\n",
       " 'I was still a child',\n",
       " \"I didn't get the chance to\",\n",
       " 'Feel the world around me',\n",
       " 'I had no time to choose what I chose to do',\n",
       " 'So go easy on me']"
      ]
     },
     "execution_count": 13,
     "metadata": {},
     "output_type": "execute_result"
    }
   ],
   "source": [
    "versos_clean"
   ]
  },
  {
   "cell_type": "code",
   "execution_count": 14,
   "id": "d5ea387c",
   "metadata": {},
   "outputs": [
    {
     "data": {
      "text/plain": [
       "3"
      ]
     },
     "execution_count": 14,
     "metadata": {},
     "output_type": "execute_result"
    }
   ],
   "source": [
    "cancion.count('baby')"
   ]
  },
  {
   "cell_type": "code",
   "execution_count": 22,
   "id": "1c3bbb8d",
   "metadata": {},
   "outputs": [
    {
     "data": {
      "text/plain": [
       "4"
      ]
     },
     "execution_count": 22,
     "metadata": {},
     "output_type": "execute_result"
    }
   ],
   "source": [
    "' '.join(versos_clean).lower().count('baby')"
   ]
  },
  {
   "cell_type": "code",
   "execution_count": 19,
   "id": "584ed57c",
   "metadata": {},
   "outputs": [
    {
     "data": {
      "text/plain": [
       "2"
      ]
     },
     "execution_count": 19,
     "metadata": {},
     "output_type": "execute_result"
    }
   ],
   "source": [
    "versos_clean.count('Go easy on me, baby')"
   ]
  },
  {
   "cell_type": "code",
   "execution_count": 23,
   "id": "dc4c181a",
   "metadata": {},
   "outputs": [],
   "source": [
    "texto = ' '.join(versos_clean).lower()"
   ]
  },
  {
   "cell_type": "code",
   "execution_count": 24,
   "id": "adb7c93e",
   "metadata": {},
   "outputs": [
    {
     "data": {
      "text/plain": [
       "\"there ain't no gold in this river that i've been washin' my hands in forever i know there is hope in these waters but i can't bring myself to swim when i am drowning in this silence baby, let me in go easy on me, baby i was still a child didn't get the chance to feel the world around me i had no time to choose what i chose to do so go easy on me there ain't no room for things to change when we are both so deeply stuck in our ways you can't deny how hard i have tried i changed who i was to put you both first but now i give up go easy on mе, baby i was still a child didn't get the chance to feel thе world around me had no time to choose what i chose to do so go easy on me i had good intentions and the highest hopes but i know right now it probably doesn't even show go easy on me, baby i was still a child i didn't get the chance to feel the world around me i had no time to choose what i chose to do so go easy on me\""
      ]
     },
     "execution_count": 24,
     "metadata": {},
     "output_type": "execute_result"
    }
   ],
   "source": [
    "texto"
   ]
  },
  {
   "cell_type": "code",
   "execution_count": 25,
   "id": "9fee2f14",
   "metadata": {},
   "outputs": [],
   "source": [
    "stopwords = ['in', 'but', 'to', 'on']"
   ]
  },
  {
   "cell_type": "code",
   "execution_count": 32,
   "id": "e33a7143",
   "metadata": {},
   "outputs": [],
   "source": [
    "def remove_stopwords(texto, stop_words):\n",
    "    for i in stop_words:\n",
    "        texto = texto.replace(i, '')\n",
    "    \n",
    "    return texto.replace('  ',' ')"
   ]
  },
  {
   "cell_type": "code",
   "execution_count": 33,
   "id": "e65c3422",
   "metadata": {},
   "outputs": [
    {
     "data": {
      "text/plain": [
       "\"there a't no gold this river that i've been wash' my hands forever i know there is hope these waters i can't brg myself swim when i am drowng this silence baby, let me go easy me, baby i was still a child didn't get the chance feel the world around me i had no time choose what i chose do so go easy me there a't no room for thgs change when we are both so deeply stuck our ways you can't deny how hard i have tried i changed who i was put you both first now i give up go easy mе, baby i was still a child didn't get the chance feel thе world around me had no time choose what i chose do so go easy me i had good tentis and the highest hopes i know right now it probably doesn't even show go easy me, baby i was still a child i didn't get the chance feel the world around me i had no time choose what i chose do so go easy me\""
      ]
     },
     "execution_count": 33,
     "metadata": {},
     "output_type": "execute_result"
    }
   ],
   "source": [
    "remove_stopwords(texto, stopwords)"
   ]
  },
  {
   "cell_type": "code",
   "execution_count": 35,
   "id": "119ab0bf",
   "metadata": {},
   "outputs": [],
   "source": [
    "def remove_stopwords(texto, stop_words):\n",
    "    return ' '.join(filter(lambda x: x not in stop_words,\n",
    "                            texto.split()))"
   ]
  },
  {
   "cell_type": "code",
   "execution_count": 37,
   "id": "b05f5d39",
   "metadata": {},
   "outputs": [],
   "source": [
    "texto = remove_stopwords(texto, stopwords)"
   ]
  },
  {
   "cell_type": "code",
   "execution_count": 41,
   "id": "59e93eea",
   "metadata": {},
   "outputs": [
    {
     "data": {
      "text/plain": [
       "\"there ain't no gold this river that i've been washin' my hands forever i know there is hope these waters i can't bring myself swim when i am drowning this silence baby let me go easy me baby i was still a child didn't get the chance feel the world around me i had no time choose what i chose do so go easy me there ain't no room for things change when we are both so deeply stuck our ways you can't deny how hard i have tried i changed who i was put you both first now i give up go easy mе baby i was still a child didn't get the chance feel thе world around me had no time choose what i chose do so go easy me i had good intentions and the highest hopes i know right now it probably doesn't even show go easy me baby i was still a child i didn't get the chance feel the world around me i had no time choose what i chose do so go easy me\""
      ]
     },
     "execution_count": 41,
     "metadata": {},
     "output_type": "execute_result"
    }
   ],
   "source": []
  },
  {
   "cell_type": "code",
   "execution_count": 42,
   "id": "cd70c88d",
   "metadata": {},
   "outputs": [],
   "source": [
    "def remove_punctuation(texto):\n",
    "    return texto.replace(',','')"
   ]
  },
  {
   "cell_type": "code",
   "execution_count": 43,
   "id": "7b5825dc",
   "metadata": {},
   "outputs": [],
   "source": [
    "texto = remove_punctuation(texto)"
   ]
  },
  {
   "cell_type": "code",
   "execution_count": 44,
   "id": "04442a66",
   "metadata": {},
   "outputs": [],
   "source": [
    "words = set(texto.split())"
   ]
  },
  {
   "cell_type": "code",
   "execution_count": 45,
   "id": "a719b3f5",
   "metadata": {},
   "outputs": [
    {
     "data": {
      "text/plain": [
       "{'a',\n",
       " \"ain't\",\n",
       " 'am',\n",
       " 'and',\n",
       " 'are',\n",
       " 'around',\n",
       " 'baby',\n",
       " 'been',\n",
       " 'both',\n",
       " 'bring',\n",
       " \"can't\",\n",
       " 'chance',\n",
       " 'change',\n",
       " 'changed',\n",
       " 'child',\n",
       " 'choose',\n",
       " 'chose',\n",
       " 'deeply',\n",
       " 'deny',\n",
       " \"didn't\",\n",
       " 'do',\n",
       " \"doesn't\",\n",
       " 'drowning',\n",
       " 'easy',\n",
       " 'even',\n",
       " 'feel',\n",
       " 'first',\n",
       " 'for',\n",
       " 'forever',\n",
       " 'get',\n",
       " 'give',\n",
       " 'go',\n",
       " 'gold',\n",
       " 'good',\n",
       " 'had',\n",
       " 'hands',\n",
       " 'hard',\n",
       " 'have',\n",
       " 'highest',\n",
       " 'hope',\n",
       " 'hopes',\n",
       " 'how',\n",
       " 'i',\n",
       " \"i've\",\n",
       " 'intentions',\n",
       " 'is',\n",
       " 'it',\n",
       " 'know',\n",
       " 'let',\n",
       " 'me',\n",
       " 'my',\n",
       " 'myself',\n",
       " 'mе',\n",
       " 'no',\n",
       " 'now',\n",
       " 'our',\n",
       " 'probably',\n",
       " 'put',\n",
       " 'right',\n",
       " 'river',\n",
       " 'room',\n",
       " 'show',\n",
       " 'silence',\n",
       " 'so',\n",
       " 'still',\n",
       " 'stuck',\n",
       " 'swim',\n",
       " 'that',\n",
       " 'the',\n",
       " 'there',\n",
       " 'these',\n",
       " 'things',\n",
       " 'this',\n",
       " 'thе',\n",
       " 'time',\n",
       " 'tried',\n",
       " 'up',\n",
       " 'was',\n",
       " \"washin'\",\n",
       " 'waters',\n",
       " 'ways',\n",
       " 'we',\n",
       " 'what',\n",
       " 'when',\n",
       " 'who',\n",
       " 'world',\n",
       " 'you'}"
      ]
     },
     "execution_count": 45,
     "metadata": {},
     "output_type": "execute_result"
    }
   ],
   "source": [
    "words"
   ]
  },
  {
   "cell_type": "code",
   "execution_count": 46,
   "id": "58a7f4fc",
   "metadata": {},
   "outputs": [],
   "source": [
    "bow = {}\n",
    "for w in words:\n",
    "    bow[w] = texto.count(w)"
   ]
  },
  {
   "cell_type": "code",
   "execution_count": 47,
   "id": "78bf91c4",
   "metadata": {},
   "outputs": [
    {
     "data": {
      "text/plain": [
       "{'no': 9,\n",
       " 'still': 3,\n",
       " 'stuck': 1,\n",
       " 'tried': 1,\n",
       " 'silence': 1,\n",
       " 'easy': 6,\n",
       " 'you': 2,\n",
       " 'get': 3,\n",
       " \"doesn't\": 1,\n",
       " 'forever': 1,\n",
       " 'room': 1,\n",
       " \"washin'\": 1,\n",
       " 'let': 1,\n",
       " 'was': 5,\n",
       " \"i've\": 1,\n",
       " 'even': 1,\n",
       " 'hands': 1,\n",
       " 'hard': 1,\n",
       " 'chose': 3,\n",
       " 'show': 1,\n",
       " \"can't\": 2,\n",
       " 'baby': 4,\n",
       " 'river': 1,\n",
       " 'feel': 3,\n",
       " 'time': 3,\n",
       " 'things': 1,\n",
       " 'put': 1,\n",
       " 'world': 3,\n",
       " 'right': 1,\n",
       " 'thе': 1,\n",
       " 'first': 1,\n",
       " 'child': 3,\n",
       " 'up': 1,\n",
       " 'myself': 1,\n",
       " 'deeply': 1,\n",
       " 'me': 12,\n",
       " 'what': 3,\n",
       " 'when': 2,\n",
       " 'gold': 1,\n",
       " 'choose': 3,\n",
       " 'know': 2,\n",
       " 'changed': 1,\n",
       " 'are': 1,\n",
       " 'now': 4,\n",
       " 'there': 3,\n",
       " 'the': 10,\n",
       " 'hope': 2,\n",
       " 'deny': 1,\n",
       " 'intentions': 1,\n",
       " 'do': 4,\n",
       " 'had': 4,\n",
       " 'go': 8,\n",
       " 'have': 1,\n",
       " 'drowning': 1,\n",
       " 'and': 2,\n",
       " 'these': 1,\n",
       " 'am': 1,\n",
       " \"ain't\": 2,\n",
       " 'ways': 1,\n",
       " 'for': 2,\n",
       " 'how': 2,\n",
       " 'a': 47,\n",
       " 'good': 1,\n",
       " 'give': 1,\n",
       " 'been': 1,\n",
       " 'bring': 1,\n",
       " 'swim': 1,\n",
       " 'highest': 1,\n",
       " 'is': 3,\n",
       " 'mе': 1,\n",
       " 'this': 2,\n",
       " 'hopes': 1,\n",
       " 'waters': 1,\n",
       " 'change': 2,\n",
       " 'i': 51,\n",
       " 'my': 2,\n",
       " 'our': 1,\n",
       " 'both': 2,\n",
       " 'who': 1,\n",
       " \"didn't\": 3,\n",
       " 'that': 1,\n",
       " 'around': 3,\n",
       " 'it': 1,\n",
       " 'probably': 1,\n",
       " 'chance': 3,\n",
       " 'so': 4,\n",
       " 'we': 1}"
      ]
     },
     "execution_count": 47,
     "metadata": {},
     "output_type": "execute_result"
    }
   ],
   "source": [
    "bow"
   ]
  },
  {
   "cell_type": "code",
   "execution_count": 48,
   "id": "00a7c2fd",
   "metadata": {},
   "outputs": [],
   "source": [
    "from collections import Counter"
   ]
  },
  {
   "cell_type": "code",
   "execution_count": 51,
   "id": "8676269e",
   "metadata": {},
   "outputs": [
    {
     "data": {
      "text/plain": [
       "[('i', 18), ('me', 9), ('go', 6), ('easy', 6), ('the', 6)]"
      ]
     },
     "execution_count": 51,
     "metadata": {},
     "output_type": "execute_result"
    }
   ],
   "source": [
    "Counter(texto.split()).most_common(5)"
   ]
  }
 ],
 "metadata": {
  "kernelspec": {
   "display_name": "Ironhack",
   "language": "python",
   "name": "ironhack"
  },
  "language_info": {
   "codemirror_mode": {
    "name": "ipython",
    "version": 3
   },
   "file_extension": ".py",
   "mimetype": "text/x-python",
   "name": "python",
   "nbconvert_exporter": "python",
   "pygments_lexer": "ipython3",
   "version": "3.7.3"
  },
  "toc": {
   "base_numbering": 1,
   "nav_menu": {},
   "number_sections": true,
   "sideBar": true,
   "skip_h1_title": false,
   "title_cell": "Table of Contents",
   "title_sidebar": "Contents",
   "toc_cell": true,
   "toc_position": {},
   "toc_section_display": true,
   "toc_window_display": false
  },
  "varInspector": {
   "cols": {
    "lenName": 16,
    "lenType": 16,
    "lenVar": 40
   },
   "kernels_config": {
    "python": {
     "delete_cmd_postfix": "",
     "delete_cmd_prefix": "del ",
     "library": "var_list.py",
     "varRefreshCmd": "print(var_dic_list())"
    },
    "r": {
     "delete_cmd_postfix": ") ",
     "delete_cmd_prefix": "rm(",
     "library": "var_list.r",
     "varRefreshCmd": "cat(var_dic_list()) "
    }
   },
   "types_to_exclude": [
    "module",
    "function",
    "builtin_function_or_method",
    "instance",
    "_Feature"
   ],
   "window_display": false
  }
 },
 "nbformat": 4,
 "nbformat_minor": 5
}
