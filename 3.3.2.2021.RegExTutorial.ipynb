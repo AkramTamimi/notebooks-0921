{
 "cells": [
  {
   "cell_type": "markdown",
   "id": "69c2ab3a",
   "metadata": {
    "toc": true
   },
   "source": [
    "<h1>Table of Contents<span class=\"tocSkip\"></span></h1>\n",
    "<div class=\"toc\"><ul class=\"toc-item\"></ul></div>"
   ]
  },
  {
   "cell_type": "code",
   "execution_count": 1,
   "id": "4526bb8a",
   "metadata": {},
   "outputs": [],
   "source": [
    "import re"
   ]
  },
  {
   "cell_type": "code",
   "execution_count": 2,
   "id": "70887c96",
   "metadata": {},
   "outputs": [],
   "source": [
    "texto = 'The cat sat on the mat'"
   ]
  },
  {
   "cell_type": "code",
   "execution_count": 4,
   "id": "1c89083a",
   "metadata": {},
   "outputs": [],
   "source": [
    "m = re.search('.at', texto)"
   ]
  },
  {
   "cell_type": "code",
   "execution_count": 5,
   "id": "af390c1c",
   "metadata": {},
   "outputs": [
    {
     "data": {
      "text/plain": [
       "<re.Match object; span=(4, 7), match='cat'>"
      ]
     },
     "execution_count": 5,
     "metadata": {},
     "output_type": "execute_result"
    }
   ],
   "source": [
    "m"
   ]
  },
  {
   "cell_type": "code",
   "execution_count": 7,
   "id": "a3f0c0fd",
   "metadata": {},
   "outputs": [
    {
     "data": {
      "text/plain": [
       "'The cat sat on the mat'"
      ]
     },
     "execution_count": 7,
     "metadata": {},
     "output_type": "execute_result"
    }
   ],
   "source": [
    "m.string"
   ]
  },
  {
   "cell_type": "code",
   "execution_count": 8,
   "id": "152ef300",
   "metadata": {},
   "outputs": [
    {
     "data": {
      "text/plain": [
       "(4, 7)"
      ]
     },
     "execution_count": 8,
     "metadata": {},
     "output_type": "execute_result"
    }
   ],
   "source": [
    "m.span()"
   ]
  },
  {
   "cell_type": "code",
   "execution_count": 10,
   "id": "80da0b54",
   "metadata": {},
   "outputs": [
    {
     "data": {
      "text/plain": [
       "4"
      ]
     },
     "execution_count": 10,
     "metadata": {},
     "output_type": "execute_result"
    }
   ],
   "source": [
    "m.start()"
   ]
  },
  {
   "cell_type": "code",
   "execution_count": 11,
   "id": "edbcda0b",
   "metadata": {},
   "outputs": [
    {
     "data": {
      "text/plain": [
       "7"
      ]
     },
     "execution_count": 11,
     "metadata": {},
     "output_type": "execute_result"
    }
   ],
   "source": [
    "m.end()"
   ]
  },
  {
   "cell_type": "code",
   "execution_count": 12,
   "id": "d5456d71",
   "metadata": {},
   "outputs": [
    {
     "data": {
      "text/plain": [
       "'cat'"
      ]
     },
     "execution_count": 12,
     "metadata": {},
     "output_type": "execute_result"
    }
   ],
   "source": [
    "m.group()"
   ]
  },
  {
   "cell_type": "code",
   "execution_count": 18,
   "id": "5be34dbc",
   "metadata": {},
   "outputs": [
    {
     "data": {
      "text/plain": [
       "[<re.Match object; span=(4, 7), match='cat'>,\n",
       " <re.Match object; span=(8, 11), match='sat'>,\n",
       " <re.Match object; span=(19, 22), match='mat'>]"
      ]
     },
     "execution_count": 18,
     "metadata": {},
     "output_type": "execute_result"
    }
   ],
   "source": [
    "[m for m in re.finditer('.at', texto)]"
   ]
  },
  {
   "cell_type": "code",
   "execution_count": 14,
   "id": "6d2db086",
   "metadata": {},
   "outputs": [
    {
     "data": {
      "text/plain": [
       "['cat', 'sat', 'mat']"
      ]
     },
     "execution_count": 14,
     "metadata": {},
     "output_type": "execute_result"
    }
   ],
   "source": [
    "re.findall('.at', texto)"
   ]
  },
  {
   "cell_type": "code",
   "execution_count": 19,
   "id": "55764ec4",
   "metadata": {},
   "outputs": [],
   "source": [
    "at = re.compile('.at')"
   ]
  },
  {
   "cell_type": "code",
   "execution_count": 20,
   "id": "4adc0ba0",
   "metadata": {},
   "outputs": [
    {
     "data": {
      "text/plain": [
       "['cat', 'sat', 'mat']"
      ]
     },
     "execution_count": 20,
     "metadata": {},
     "output_type": "execute_result"
    }
   ],
   "source": [
    "at.findall(texto)"
   ]
  },
  {
   "cell_type": "code",
   "execution_count": 21,
   "id": "3119789d",
   "metadata": {},
   "outputs": [
    {
     "data": {
      "text/plain": [
       "'The cat sat on the mat'"
      ]
     },
     "execution_count": 21,
     "metadata": {},
     "output_type": "execute_result"
    }
   ],
   "source": [
    "texto"
   ]
  },
  {
   "cell_type": "code",
   "execution_count": 22,
   "id": "6ae00c30",
   "metadata": {},
   "outputs": [
    {
     "data": {
      "text/plain": [
       "'The cat SAT on the mat'"
      ]
     },
     "execution_count": 22,
     "metadata": {},
     "output_type": "execute_result"
    }
   ],
   "source": [
    "texto.replace('sat', 'SAT')"
   ]
  },
  {
   "cell_type": "code",
   "execution_count": 24,
   "id": "dab9a9a1",
   "metadata": {},
   "outputs": [
    {
     "data": {
      "text/plain": [
       "'The cat SAT on the mat'"
      ]
     },
     "execution_count": 24,
     "metadata": {},
     "output_type": "execute_result"
    }
   ],
   "source": [
    "texto.replace('sat', 'SAT')"
   ]
  },
  {
   "cell_type": "code",
   "execution_count": 27,
   "id": "de21d7b3",
   "metadata": {},
   "outputs": [
    {
     "data": {
      "text/plain": [
       "'The CATO SATO on the MATO'"
      ]
     },
     "execution_count": 27,
     "metadata": {},
     "output_type": "execute_result"
    }
   ],
   "source": [
    "at.sub(lambda x: x.group().upper() + 'O', texto)"
   ]
  },
  {
   "cell_type": "code",
   "execution_count": 102,
   "id": "32c135f8",
   "metadata": {},
   "outputs": [],
   "source": [
    "texto = '''\n",
    "Nombre: Alb\n",
    "Email: alberto.labarga@gmail.com\n",
    "    @email.com\n",
    "Telefono: 554 287 987 622-629-507 \n",
    "          622 629 507\n",
    "          622629507\n",
    "CP: 12345\n",
    "URL: http://ironhack.com\n",
    "'''"
   ]
  },
  {
   "cell_type": "code",
   "execution_count": 91,
   "id": "d053ce87",
   "metadata": {},
   "outputs": [
    {
     "name": "stdout",
     "output_type": "stream",
     "text": [
      "\n",
      "Nom: Alberto Labarga\n",
      "Email: alberto.labarga@gmail.com\n",
      "    @email.com\n",
      "Telefono: 554 287 987 622-629-507 \n",
      "          622 629 507\n",
      "          622629507\n",
      "CP: 12345\n",
      "URL: http://ironhack.com\n",
      "\n"
     ]
    }
   ],
   "source": [
    "print(texto)"
   ]
  },
  {
   "cell_type": "code",
   "execution_count": 54,
   "id": "d6ffa148",
   "metadata": {},
   "outputs": [
    {
     "data": {
      "text/plain": [
       "['554 287 987', '622-629-507', '622 629 507', '622629507']"
      ]
     },
     "execution_count": 54,
     "metadata": {},
     "output_type": "execute_result"
    }
   ],
   "source": [
    "re.findall('\\d{3}[ -]?\\d{3}[ -]?\\d{3}', texto)"
   ]
  },
  {
   "cell_type": "code",
   "execution_count": null,
   "id": "e52355b9",
   "metadata": {},
   "outputs": [],
   "source": [
    "re.findall('\\d{3}[ -]?\\d{3}[ -]?\\d{3}', texto)"
   ]
  },
  {
   "cell_type": "code",
   "execution_count": 78,
   "id": "62a90519",
   "metadata": {},
   "outputs": [],
   "source": [
    "telefono = re.compile('\\d{3}[ -]?\\d{3}[ -]?\\d{3}')"
   ]
  },
  {
   "cell_type": "code",
   "execution_count": 43,
   "id": "5ddd9256",
   "metadata": {},
   "outputs": [
    {
     "data": {
      "text/plain": [
       "['622-629-507', '622 629 507', '622629507']"
      ]
     },
     "execution_count": 43,
     "metadata": {},
     "output_type": "execute_result"
    }
   ],
   "source": [
    "telefono.findall(texto)"
   ]
  },
  {
   "cell_type": "code",
   "execution_count": 60,
   "id": "cc710e05",
   "metadata": {},
   "outputs": [],
   "source": [
    "email = re.compile('\\S+@\\S+')"
   ]
  },
  {
   "cell_type": "code",
   "execution_count": 61,
   "id": "78670332",
   "metadata": {},
   "outputs": [
    {
     "data": {
      "text/plain": [
       "['alberto.labarga@gmail.com']"
      ]
     },
     "execution_count": 61,
     "metadata": {},
     "output_type": "execute_result"
    }
   ],
   "source": [
    "email.findall(texto)"
   ]
  },
  {
   "cell_type": "code",
   "execution_count": 77,
   "id": "24b0a9d0",
   "metadata": {},
   "outputs": [],
   "source": [
    "if not telefono.match('229382851'):\n",
    "    print('Eso no es un telefono')"
   ]
  },
  {
   "cell_type": "code",
   "execution_count": 81,
   "id": "35f889f1",
   "metadata": {},
   "outputs": [],
   "source": [
    "m = re.search('Nombre: (.*)\\n', texto)"
   ]
  },
  {
   "cell_type": "code",
   "execution_count": 85,
   "id": "5664cad5",
   "metadata": {},
   "outputs": [
    {
     "data": {
      "text/plain": [
       "'Alberto Labarga'"
      ]
     },
     "execution_count": 85,
     "metadata": {},
     "output_type": "execute_result"
    }
   ],
   "source": [
    "m.groups()[0]"
   ]
  },
  {
   "cell_type": "code",
   "execution_count": 86,
   "id": "7295b668",
   "metadata": {},
   "outputs": [],
   "source": [
    "class NoName(Exception):\n",
    "    pass"
   ]
  },
  {
   "cell_type": "code",
   "execution_count": 103,
   "id": "1374be02",
   "metadata": {},
   "outputs": [],
   "source": [
    "def extract_name(texto):\n",
    "    nombres = re.compile('Nombre: (.{3,})\\n')\n",
    "    m = nombres.search(texto)\n",
    "    if m:\n",
    "        return  m.groups()[0]\n",
    "    else:\n",
    "        raise NoName('Nombre no encontrado')"
   ]
  },
  {
   "cell_type": "code",
   "execution_count": 104,
   "id": "15d4e5e9",
   "metadata": {},
   "outputs": [
    {
     "data": {
      "text/plain": [
       "'Alb'"
      ]
     },
     "execution_count": 104,
     "metadata": {},
     "output_type": "execute_result"
    }
   ],
   "source": [
    "extract_name(texto)"
   ]
  },
  {
   "cell_type": "code",
   "execution_count": null,
   "id": "8c393676",
   "metadata": {},
   "outputs": [],
   "source": []
  }
 ],
 "metadata": {
  "kernelspec": {
   "display_name": "Ironhack",
   "language": "python",
   "name": "ironhack"
  },
  "language_info": {
   "codemirror_mode": {
    "name": "ipython",
    "version": 3
   },
   "file_extension": ".py",
   "mimetype": "text/x-python",
   "name": "python",
   "nbconvert_exporter": "python",
   "pygments_lexer": "ipython3",
   "version": "3.7.3"
  },
  "toc": {
   "base_numbering": 1,
   "nav_menu": {},
   "number_sections": true,
   "sideBar": true,
   "skip_h1_title": false,
   "title_cell": "Table of Contents",
   "title_sidebar": "Contents",
   "toc_cell": true,
   "toc_position": {},
   "toc_section_display": true,
   "toc_window_display": false
  },
  "varInspector": {
   "cols": {
    "lenName": 16,
    "lenType": 16,
    "lenVar": 40
   },
   "kernels_config": {
    "python": {
     "delete_cmd_postfix": "",
     "delete_cmd_prefix": "del ",
     "library": "var_list.py",
     "varRefreshCmd": "print(var_dic_list())"
    },
    "r": {
     "delete_cmd_postfix": ") ",
     "delete_cmd_prefix": "rm(",
     "library": "var_list.r",
     "varRefreshCmd": "cat(var_dic_list()) "
    }
   },
   "types_to_exclude": [
    "module",
    "function",
    "builtin_function_or_method",
    "instance",
    "_Feature"
   ],
   "window_display": false
  }
 },
 "nbformat": 4,
 "nbformat_minor": 5
}
